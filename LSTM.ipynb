{
 "cells": [
  {
   "cell_type": "markdown",
   "metadata": {},
   "source": [
    "# Scope of this NoteBook:\n",
    "\n",
    "In this notebook we study different techniques to perform time series analysis.\n",
    "The main usecase we have here is to predict the closing price of Apple given the previous X prices.\n",
    "We will compare different models, different hyperparameters and we willalso compare different observables.\n",
    "\n",
    "The datacleaning and gathering and the LSTM model architecture is done following [link](https://www.youtube.com/watch?v=QIUxPv5PJOY), the exploration of the different batch sizes, the comparison with simpler model and with Fourier transforms and the Returns studies have been done by myself.\n",
    "\n",
    "I would like to aknowledge useful discussions with P Mattioli and G Minneci."
   ]
  },
  {
   "cell_type": "code",
   "execution_count": 1,
   "metadata": {},
   "outputs": [
    {
     "name": "stderr",
     "output_type": "stream",
     "text": [
      "/home/lorenzo/Documents/learning/TimeSeriesTutorial/.LSTM/lib/python3.6/site-packages/pandas_datareader/compat/__init__.py:7: FutureWarning: pandas.util.testing is deprecated. Use the functions in the public API at pandas.testing instead.\n",
      "  from pandas.util.testing import assert_frame_equal\n"
     ]
    }
   ],
   "source": [
    "import numpy as np\n",
    "import pandas_datareader as web\n",
    "import pandas as pd\n",
    "import matplotlib.pyplot as plt\n",
    "import math"
   ]
  },
  {
   "cell_type": "markdown",
   "metadata": {},
   "source": [
    "### Downloading the data\n",
    "\n",
    "We will use DataReader (provided by PanDas) to download the data.\n",
    "We will choose the followings:\n",
    "1. Apple prices (AAPL)\n",
    "2. Yahoo finance as a source\n",
    "3. The starting point as first of january 2012\n",
    "4. The final point as December 17th 2019"
   ]
  },
  {
   "cell_type": "code",
   "execution_count": 2,
   "metadata": {},
   "outputs": [],
   "source": [
    "df = web.DataReader('AAPL', data_source='yahoo', start='2012-01-01', end='2019-12-17')"
   ]
  },
  {
   "cell_type": "code",
   "execution_count": 3,
   "metadata": {},
   "outputs": [
    {
     "data": {
      "text/html": [
       "<div>\n",
       "<style scoped>\n",
       "    .dataframe tbody tr th:only-of-type {\n",
       "        vertical-align: middle;\n",
       "    }\n",
       "\n",
       "    .dataframe tbody tr th {\n",
       "        vertical-align: top;\n",
       "    }\n",
       "\n",
       "    .dataframe thead th {\n",
       "        text-align: right;\n",
       "    }\n",
       "</style>\n",
       "<table border=\"1\" class=\"dataframe\">\n",
       "  <thead>\n",
       "    <tr style=\"text-align: right;\">\n",
       "      <th></th>\n",
       "      <th>High</th>\n",
       "      <th>Low</th>\n",
       "      <th>Open</th>\n",
       "      <th>Close</th>\n",
       "      <th>Volume</th>\n",
       "      <th>Adj Close</th>\n",
       "    </tr>\n",
       "    <tr>\n",
       "      <th>Date</th>\n",
       "      <th></th>\n",
       "      <th></th>\n",
       "      <th></th>\n",
       "      <th></th>\n",
       "      <th></th>\n",
       "      <th></th>\n",
       "    </tr>\n",
       "  </thead>\n",
       "  <tbody>\n",
       "    <tr>\n",
       "      <th>2012-01-03</th>\n",
       "      <td>58.928570</td>\n",
       "      <td>58.428570</td>\n",
       "      <td>58.485714</td>\n",
       "      <td>58.747143</td>\n",
       "      <td>75555200.0</td>\n",
       "      <td>50.994907</td>\n",
       "    </tr>\n",
       "    <tr>\n",
       "      <th>2012-01-04</th>\n",
       "      <td>59.240002</td>\n",
       "      <td>58.468571</td>\n",
       "      <td>58.571430</td>\n",
       "      <td>59.062859</td>\n",
       "      <td>65005500.0</td>\n",
       "      <td>51.268970</td>\n",
       "    </tr>\n",
       "    <tr>\n",
       "      <th>2012-01-05</th>\n",
       "      <td>59.792858</td>\n",
       "      <td>58.952858</td>\n",
       "      <td>59.278572</td>\n",
       "      <td>59.718571</td>\n",
       "      <td>67817400.0</td>\n",
       "      <td>51.838169</td>\n",
       "    </tr>\n",
       "    <tr>\n",
       "      <th>2012-01-06</th>\n",
       "      <td>60.392857</td>\n",
       "      <td>59.888573</td>\n",
       "      <td>59.967144</td>\n",
       "      <td>60.342857</td>\n",
       "      <td>79573200.0</td>\n",
       "      <td>52.380054</td>\n",
       "    </tr>\n",
       "    <tr>\n",
       "      <th>2012-01-09</th>\n",
       "      <td>61.107143</td>\n",
       "      <td>60.192856</td>\n",
       "      <td>60.785713</td>\n",
       "      <td>60.247143</td>\n",
       "      <td>98506100.0</td>\n",
       "      <td>52.296970</td>\n",
       "    </tr>\n",
       "  </tbody>\n",
       "</table>\n",
       "</div>"
      ],
      "text/plain": [
       "                 High        Low       Open      Close      Volume  Adj Close\n",
       "Date                                                                         \n",
       "2012-01-03  58.928570  58.428570  58.485714  58.747143  75555200.0  50.994907\n",
       "2012-01-04  59.240002  58.468571  58.571430  59.062859  65005500.0  51.268970\n",
       "2012-01-05  59.792858  58.952858  59.278572  59.718571  67817400.0  51.838169\n",
       "2012-01-06  60.392857  59.888573  59.967144  60.342857  79573200.0  52.380054\n",
       "2012-01-09  61.107143  60.192856  60.785713  60.247143  98506100.0  52.296970"
      ]
     },
     "execution_count": 3,
     "metadata": {},
     "output_type": "execute_result"
    }
   ],
   "source": [
    "df.head()"
   ]
  },
  {
   "cell_type": "code",
   "execution_count": 4,
   "metadata": {},
   "outputs": [
    {
     "data": {
      "text/html": [
       "<div>\n",
       "<style scoped>\n",
       "    .dataframe tbody tr th:only-of-type {\n",
       "        vertical-align: middle;\n",
       "    }\n",
       "\n",
       "    .dataframe tbody tr th {\n",
       "        vertical-align: top;\n",
       "    }\n",
       "\n",
       "    .dataframe thead th {\n",
       "        text-align: right;\n",
       "    }\n",
       "</style>\n",
       "<table border=\"1\" class=\"dataframe\">\n",
       "  <thead>\n",
       "    <tr style=\"text-align: right;\">\n",
       "      <th></th>\n",
       "      <th>High</th>\n",
       "      <th>Low</th>\n",
       "      <th>Open</th>\n",
       "      <th>Close</th>\n",
       "      <th>Volume</th>\n",
       "      <th>Adj Close</th>\n",
       "    </tr>\n",
       "  </thead>\n",
       "  <tbody>\n",
       "    <tr>\n",
       "      <th>count</th>\n",
       "      <td>2003.000000</td>\n",
       "      <td>2003.000000</td>\n",
       "      <td>2003.000000</td>\n",
       "      <td>2003.000000</td>\n",
       "      <td>2.003000e+03</td>\n",
       "      <td>2003.000000</td>\n",
       "    </tr>\n",
       "    <tr>\n",
       "      <th>mean</th>\n",
       "      <td>127.194100</td>\n",
       "      <td>124.954538</td>\n",
       "      <td>126.079166</td>\n",
       "      <td>126.109797</td>\n",
       "      <td>5.960691e+07</td>\n",
       "      <td>119.389611</td>\n",
       "    </tr>\n",
       "    <tr>\n",
       "      <th>std</th>\n",
       "      <td>50.028310</td>\n",
       "      <td>49.234509</td>\n",
       "      <td>49.592770</td>\n",
       "      <td>49.679272</td>\n",
       "      <td>4.688887e+07</td>\n",
       "      <td>51.745687</td>\n",
       "    </tr>\n",
       "    <tr>\n",
       "      <th>min</th>\n",
       "      <td>57.085712</td>\n",
       "      <td>55.014286</td>\n",
       "      <td>55.424286</td>\n",
       "      <td>55.790001</td>\n",
       "      <td>1.136200e+07</td>\n",
       "      <td>49.142811</td>\n",
       "    </tr>\n",
       "    <tr>\n",
       "      <th>25%</th>\n",
       "      <td>86.649998</td>\n",
       "      <td>84.915001</td>\n",
       "      <td>85.766430</td>\n",
       "      <td>85.971428</td>\n",
       "      <td>2.760790e+07</td>\n",
       "      <td>75.313698</td>\n",
       "    </tr>\n",
       "    <tr>\n",
       "      <th>50%</th>\n",
       "      <td>114.019997</td>\n",
       "      <td>111.660004</td>\n",
       "      <td>112.820000</td>\n",
       "      <td>112.919998</td>\n",
       "      <td>4.369990e+07</td>\n",
       "      <td>105.513168</td>\n",
       "    </tr>\n",
       "    <tr>\n",
       "      <th>75%</th>\n",
       "      <td>165.939995</td>\n",
       "      <td>162.125000</td>\n",
       "      <td>163.845001</td>\n",
       "      <td>163.970001</td>\n",
       "      <td>7.482090e+07</td>\n",
       "      <td>158.767662</td>\n",
       "    </tr>\n",
       "    <tr>\n",
       "      <th>max</th>\n",
       "      <td>281.769989</td>\n",
       "      <td>278.799988</td>\n",
       "      <td>279.570007</td>\n",
       "      <td>280.410004</td>\n",
       "      <td>3.765300e+08</td>\n",
       "      <td>279.746094</td>\n",
       "    </tr>\n",
       "  </tbody>\n",
       "</table>\n",
       "</div>"
      ],
      "text/plain": [
       "              High          Low         Open        Close        Volume  \\\n",
       "count  2003.000000  2003.000000  2003.000000  2003.000000  2.003000e+03   \n",
       "mean    127.194100   124.954538   126.079166   126.109797  5.960691e+07   \n",
       "std      50.028310    49.234509    49.592770    49.679272  4.688887e+07   \n",
       "min      57.085712    55.014286    55.424286    55.790001  1.136200e+07   \n",
       "25%      86.649998    84.915001    85.766430    85.971428  2.760790e+07   \n",
       "50%     114.019997   111.660004   112.820000   112.919998  4.369990e+07   \n",
       "75%     165.939995   162.125000   163.845001   163.970001  7.482090e+07   \n",
       "max     281.769989   278.799988   279.570007   280.410004  3.765300e+08   \n",
       "\n",
       "         Adj Close  \n",
       "count  2003.000000  \n",
       "mean    119.389611  \n",
       "std      51.745687  \n",
       "min      49.142811  \n",
       "25%      75.313698  \n",
       "50%     105.513168  \n",
       "75%     158.767662  \n",
       "max     279.746094  "
      ]
     },
     "execution_count": 4,
     "metadata": {},
     "output_type": "execute_result"
    }
   ],
   "source": [
    "df.describe()"
   ]
  },
  {
   "cell_type": "markdown",
   "metadata": {},
   "source": [
    "### Plotting the data\n",
    "\n",
    "Before to study any model, we will plot the data.\n",
    "We are interested in the closing prices of the  stock represented by the column 'Close'"
   ]
  },
  {
   "cell_type": "code",
   "execution_count": 5,
   "metadata": {},
   "outputs": [
    {
     "data": {
      "text/plain": [
       "<matplotlib.axes._subplots.AxesSubplot at 0x7f11fdd35320>"
      ]
     },
     "execution_count": 5,
     "metadata": {},
     "output_type": "execute_result"
    },
    {
     "data": {
      "image/png": "[encoded data removed]",
      "text/plain": [
       "<Figure size 432x288 with 1 Axes>"
      ]
     },
     "metadata": {
      "needs_background": "light"
     },
     "output_type": "display_data"
    }
   ],
   "source": [
    "df.plot(y = 'Close')"
   ]
  },
  {
   "cell_type": "markdown",
   "metadata": {},
   "source": [
    "### Isolate the data\n",
    "\n",
    "We want to predict the closing prices given the history of the same quantity.\n",
    "We can then isolate them creating a new dataframe.\n",
    "We convert then it to numpy"
   ]
  },
  {
   "cell_type": "code",
   "execution_count": 6,
   "metadata": {},
   "outputs": [],
   "source": [
    "df_cp = pd.DataFrame(df['Close'])"
   ]
  },
  {
   "cell_type": "code",
   "execution_count": 7,
   "metadata": {},
   "outputs": [
    {
     "data": {
      "text/html": [
       "<div>\n",
       "<style scoped>\n",
       "    .dataframe tbody tr th:only-of-type {\n",
       "        vertical-align: middle;\n",
       "    }\n",
       "\n",
       "    .dataframe tbody tr th {\n",
       "        vertical-align: top;\n",
       "    }\n",
       "\n",
       "    .dataframe thead th {\n",
       "        text-align: right;\n",
       "    }\n",
       "</style>\n",
       "<table border=\"1\" class=\"dataframe\">\n",
       "  <thead>\n",
       "    <tr style=\"text-align: right;\">\n",
       "      <th></th>\n",
       "      <th>Close</th>\n",
       "    </tr>\n",
       "    <tr>\n",
       "      <th>Date</th>\n",
       "      <th></th>\n",
       "    </tr>\n",
       "  </thead>\n",
       "  <tbody>\n",
       "    <tr>\n",
       "      <th>2012-01-03</th>\n",
       "      <td>58.747143</td>\n",
       "    </tr>\n",
       "    <tr>\n",
       "      <th>2012-01-04</th>\n",
       "      <td>59.062859</td>\n",
       "    </tr>\n",
       "    <tr>\n",
       "      <th>2012-01-05</th>\n",
       "      <td>59.718571</td>\n",
       "    </tr>\n",
       "    <tr>\n",
       "      <th>2012-01-06</th>\n",
       "      <td>60.342857</td>\n",
       "    </tr>\n",
       "    <tr>\n",
       "      <th>2012-01-09</th>\n",
       "      <td>60.247143</td>\n",
       "    </tr>\n",
       "    <tr>\n",
       "      <th>...</th>\n",
       "      <td>...</td>\n",
       "    </tr>\n",
       "    <tr>\n",
       "      <th>2019-12-11</th>\n",
       "      <td>270.769989</td>\n",
       "    </tr>\n",
       "    <tr>\n",
       "      <th>2019-12-12</th>\n",
       "      <td>271.459991</td>\n",
       "    </tr>\n",
       "    <tr>\n",
       "      <th>2019-12-13</th>\n",
       "      <td>275.149994</td>\n",
       "    </tr>\n",
       "    <tr>\n",
       "      <th>2019-12-16</th>\n",
       "      <td>279.859985</td>\n",
       "    </tr>\n",
       "    <tr>\n",
       "      <th>2019-12-17</th>\n",
       "      <td>280.410004</td>\n",
       "    </tr>\n",
       "  </tbody>\n",
       "</table>\n",
       "<p>2003 rows × 1 columns</p>\n",
       "</div>"
      ],
      "text/plain": [
       "                 Close\n",
       "Date                  \n",
       "2012-01-03   58.747143\n",
       "2012-01-04   59.062859\n",
       "2012-01-05   59.718571\n",
       "2012-01-06   60.342857\n",
       "2012-01-09   60.247143\n",
       "...                ...\n",
       "2019-12-11  270.769989\n",
       "2019-12-12  271.459991\n",
       "2019-12-13  275.149994\n",
       "2019-12-16  279.859985\n",
       "2019-12-17  280.410004\n",
       "\n",
       "[2003 rows x 1 columns]"
      ]
     },
     "execution_count": 7,
     "metadata": {},
     "output_type": "execute_result"
    }
   ],
   "source": [
    "df_cp"
   ]
  },
  {
   "cell_type": "code",
   "execution_count": 8,
   "metadata": {},
   "outputs": [],
   "source": [
    "data = df_cp.to_numpy()"
   ]
  },
  {
   "cell_type": "code",
   "execution_count": 9,
   "metadata": {},
   "outputs": [
    {
     "data": {
      "text/plain": [
       "array([[ 58.74714279],\n",
       "       [ 59.06285858],\n",
       "       [ 59.71857071],\n",
       "       ...,\n",
       "       [275.1499939 ],\n",
       "       [279.85998535],\n",
       "       [280.41000366]])"
      ]
     },
     "execution_count": 9,
     "metadata": {},
     "output_type": "execute_result"
    }
   ],
   "source": [
    "data"
   ]
  },
  {
   "cell_type": "markdown",
   "metadata": {},
   "source": [
    "## Train Test Split\n",
    "\n",
    "It is now time to prepare to train the model, this means that we need to split out data into *train* and *test* sets.\n",
    "We create a helper function to perform this without shuffling the data, we want to preserve our time series and use the data before a certain date to tain our model and then to use the data after that date to test it in order to observe how much it can look into the future."
   ]
  },
  {
   "cell_type": "code",
   "execution_count": 10,
   "metadata": {},
   "outputs": [],
   "source": [
    "def train_test_split(dataset, percentage=0.8):\n",
    "    return dataset[:math.ceil(len(dataset)*percentage)], dataset[math.ceil(len(dataset)*percentage):] "
   ]
  },
  {
   "cell_type": "code",
   "execution_count": 11,
   "metadata": {},
   "outputs": [],
   "source": [
    "train_dataset, test_dataset = train_test_split(data)"
   ]
  },
  {
   "cell_type": "code",
   "execution_count": 12,
   "metadata": {},
   "outputs": [
    {
     "name": "stdout",
     "output_type": "stream",
     "text": [
      "1603 400 2003\n"
     ]
    }
   ],
   "source": [
    "print(len(train_dataset),\n",
    "len(test_dataset),\n",
    "len(data))"
   ]
  },
  {
   "cell_type": "markdown",
   "metadata": {},
   "source": [
    "## Scale the data\n",
    "\n",
    "Many models require their inputs to be properly normalized, machine learning models are no exception.\n",
    "We are going to use the sklearn MinMaxScaler to normalize the interval setting the minimum value to zero and the maximum value to 1, we are not imposing any statistics to the data as we would do using a norma scaler or something similar.\n",
    "\n",
    "It is important to notice that the normalization is done just on the *train* set, if we do it on the entire dataset we are going to pour some of the information of the *test* into the *train*, which is something we do not want.\n",
    "\n",
    "**NB** The video I cited in the beginning was using the entire dataset to normalize its data, making there a quite big mistake."
   ]
  },
  {
   "cell_type": "code",
   "execution_count": 13,
   "metadata": {},
   "outputs": [],
   "source": [
    "from sklearn.preprocessing import MinMaxScaler"
   ]
  },
  {
   "cell_type": "code",
   "execution_count": 14,
   "metadata": {},
   "outputs": [
    {
     "data": {
      "text/plain": [
       "MinMaxScaler(copy=True, feature_range=(0, 1))"
      ]
     },
     "execution_count": 14,
     "metadata": {},
     "output_type": "execute_result"
    }
   ],
   "source": [
    "# We then define the scaler and we apply it\n",
    "scaler = MinMaxScaler()\n",
    "scaler.fit(train_dataset)"
   ]
  },
  {
   "cell_type": "code",
   "execution_count": 15,
   "metadata": {},
   "outputs": [],
   "source": [
    "# We create a new scaled dataset\n",
    "scaled_train = scaler.transform(train_dataset)"
   ]
  },
  {
   "cell_type": "code",
   "execution_count": 16,
   "metadata": {},
   "outputs": [
    {
     "data": {
      "text/plain": [
       "[<matplotlib.lines.Line2D at 0x7f11f0e596a0>]"
      ]
     },
     "execution_count": 16,
     "metadata": {},
     "output_type": "execute_result"
    },
    {
     "data": {
      "image/png": "[encoded data removed]",
      "text/plain": [
       "<Figure size 432x288 with 1 Axes>"
      ]
     },
     "metadata": {
      "needs_background": "light"
     },
     "output_type": "display_data"
    }
   ],
   "source": [
    "plt.plot(train_dataset)"
   ]
  },
  {
   "cell_type": "code",
   "execution_count": 17,
   "metadata": {},
   "outputs": [
    {
     "data": {
      "text/plain": [
       "[<matplotlib.lines.Line2D at 0x7f11f0e45a58>]"
      ]
     },
     "execution_count": 17,
     "metadata": {},
     "output_type": "execute_result"
    },
    {
     "data": {
      "image/png": "[encoded data removed]",
      "text/plain": [
       "<Figure size 432x288 with 1 Axes>"
      ]
     },
     "metadata": {
      "needs_background": "light"
     },
     "output_type": "display_data"
    }
   ],
   "source": [
    "# We observe how it is  in between0 and 1\n",
    "plt.plot(scaled_train)"
   ]
  },
  {
   "cell_type": "code",
   "execution_count": 18,
   "metadata": {},
   "outputs": [],
   "source": [
    "# We now rescale the test\n",
    "scaled_test = scaler.transform(test_dataset)"
   ]
  },
  {
   "cell_type": "code",
   "execution_count": 19,
   "metadata": {},
   "outputs": [
    {
     "data": {
      "text/plain": [
       "[<matplotlib.lines.Line2D at 0x7f11f0daf6a0>]"
      ]
     },
     "execution_count": 19,
     "metadata": {},
     "output_type": "execute_result"
    },
    {
     "data": {
      "image/png": "[encoded data removed]",
      "text/plain": [
       "<Figure size 432x288 with 1 Axes>"
      ]
     },
     "metadata": {
      "needs_background": "light"
     },
     "output_type": "display_data"
    }
   ],
   "source": [
    "# We plot it\n",
    "plt.plot(scaled_test)"
   ]
  },
  {
   "cell_type": "markdown",
   "metadata": {},
   "source": [
    "# LSTM in Keras\n",
    "\n",
    "One of the most known and widely used models to perform time series analysis is the Long Short Term Memory.\n",
    "The success of this model is due to its capacity of keeping memory of both long and short term dependencies, and also to avoid the vanishing gradient problem.\n",
    "We are going to use the model to extract informations and predict the next prices, the scheme of the model is the following:\n",
    "1. 2 LSTM layers are used to extract features from the time series, each of them has a hidden dimension of 50\n",
    "2. The features are the run through a dense layer, which compresses the information to 25\n",
    "3. The final result is predicted from the prevousily compressed features\n",
    "\n",
    "The model is trained optimizing the $L_2$ losses on the target value which we feed in to supervise the learning.\n",
    "The optimizer used is ADAM and we train for a total of 20 epochs."
   ]
  },
  {
   "cell_type": "code",
   "execution_count": 24,
   "metadata": {},
   "outputs": [
    {
     "name": "stderr",
     "output_type": "stream",
     "text": [
      "Using TensorFlow backend.\n"
     ]
    }
   ],
   "source": [
    "import keras"
   ]
  },
  {
   "cell_type": "code",
   "execution_count": 84,
   "metadata": {},
   "outputs": [],
   "source": [
    "def get_model():\n",
    "    model = keras.Sequential()\n",
    "    model.add(keras.layers.LSTM(50, return_sequences=True, input_shape = (60, 1)))\n",
    "    model.add(keras.layers.LSTM(50, return_sequences=False))\n",
    "    model.add(keras.layers.Dense(25, activation = 'relu'))\n",
    "    model.add(keras.layers.Dense(1))\n",
    "    model.compile(optimizer='adam', loss = 'mse')\n",
    "    return model"
   ]
  },
  {
   "cell_type": "markdown",
   "metadata": {},
   "source": [
    "## Creation of the  training data\n",
    "\n",
    "We need now to rewrite the dataset in a way that it is suitable to train our model.\n",
    "\n",
    "General models for sequences analysis require their input to be something like:\n",
    "*$ \\left[ \\text{Batch size}, \\text{Sequence Length}, \\text{Input Features} \\right] $*\n",
    "\n",
    "We are going to manipulate the dataset to be rewritten as:\n",
    "*$\\left[ \\text{Elements in the Dataset}, \\text{Values} \\right] \\rightarrow \\left[ \\text{Elements in the dataset} - \\text{Seq}, \\text{Seq}, 1 \\right]$*\n",
    "\n",
    "for the input. The output is going to be rewritten as:\n",
    "\n",
    "*$\\left[ \\text{Elements in the dataset} - \\text{Seq}, \\text{Seq}, 1 \\right]$*"
   ]
  },
  {
   "cell_type": "code",
   "execution_count": 20,
   "metadata": {},
   "outputs": [],
   "source": [
    "def create_training_data(train_dataset, Seq):\n",
    "    final_input = []\n",
    "    result = []\n",
    "    for t in range(Seq, len(train_dataset)):\n",
    "#         at each time t we select the previous Seq values and we get as result t\n",
    "        final_input.append(train_dataset[t-Seq:t])\n",
    "        result.append(train_dataset[t])\n",
    "    return np.asarray(final_input), np.asarray(result)"
   ]
  },
  {
   "cell_type": "code",
   "execution_count": 21,
   "metadata": {},
   "outputs": [],
   "source": [
    "train_data, train_target = create_training_data(scaled_train, 60)"
   ]
  },
  {
   "cell_type": "code",
   "execution_count": 22,
   "metadata": {},
   "outputs": [
    {
     "data": {
      "text/plain": [
       "(1543, 60, 1)"
      ]
     },
     "execution_count": 22,
     "metadata": {},
     "output_type": "execute_result"
    }
   ],
   "source": [
    "# Shape check\n",
    "train_data.shape"
   ]
  },
  {
   "cell_type": "code",
   "execution_count": 100,
   "metadata": {},
   "outputs": [
    {
     "data": {
      "text/plain": [
       "(1543, 1)"
      ]
     },
     "execution_count": 100,
     "metadata": {},
     "output_type": "execute_result"
    }
   ],
   "source": [
    "train_target.shape"
   ]
  },
  {
   "cell_type": "markdown",
   "metadata": {},
   "source": [
    "### Large vs Small batch size\n",
    "\n",
    "In many techniques used to predict the time evolution there is an explicit or implicit averaging over some frequencies.\n",
    "Usually the large frequencies, responsible for rapid oscillations are the ones that are more affected by these averaging resulting in smoother signals.\n",
    "\n",
    "The LSRM architecture does not have any explicit fitlering, we will see that this effect is provided by the Batch Size."
   ]
  },
  {
   "cell_type": "code",
   "execution_count": 85,
   "metadata": {},
   "outputs": [],
   "source": [
    "small_batch_size = get_model()"
   ]
  },
  {
   "cell_type": "code",
   "execution_count": 86,
   "metadata": {},
   "outputs": [],
   "source": [
    "large_batch_size = get_model()"
   ]
  },
  {
   "cell_type": "markdown",
   "metadata": {},
   "source": [
    "### The training loop\n",
    "\n",
    "We are going now to train the small_batch_size model with BS = 4, meaning that its weights are updated after each group od 4 sequences, while the large batch size model will be trained using a batch size of 128."
   ]
  },
  {
   "cell_type": "code",
   "execution_count": 87,
   "metadata": {},
   "outputs": [
    {
     "name": "stdout",
     "output_type": "stream",
     "text": [
      "Epoch 1/20\n",
      "1543/1543 [==============================] - 33s 21ms/step - loss: 0.0027\n",
      "Epoch 2/20\n",
      "1543/1543 [==============================] - 28s 18ms/step - loss: 0.0010\n",
      "Epoch 3/20\n",
      "1543/1543 [==============================] - 15s 10ms/step - loss: 9.1377e-04\n",
      "Epoch 4/20\n",
      "1543/1543 [==============================] - 15s 10ms/step - loss: 6.6905e-04\n",
      "Epoch 5/20\n",
      "1543/1543 [==============================] - 19s 12ms/step - loss: 5.6478e-04\n",
      "Epoch 6/20\n",
      "1543/1543 [==============================] - 19s 12ms/step - loss: 4.2297e-04\n",
      "Epoch 7/20\n",
      "1543/1543 [==============================] - 20s 13ms/step - loss: 5.0112e-04\n",
      "Epoch 8/20\n",
      "1543/1543 [==============================] - 20s 13ms/step - loss: 3.6032e-04\n",
      "Epoch 9/20\n",
      "1543/1543 [==============================] - 20s 13ms/step - loss: 3.6967e-04\n",
      "Epoch 10/20\n",
      "1543/1543 [==============================] - 24s 15ms/step - loss: 3.3509e-04\n",
      "Epoch 11/20\n",
      "1543/1543 [==============================] - 24s 16ms/step - loss: 2.9154e-04\n",
      "Epoch 12/20\n",
      "1543/1543 [==============================] - 22s 15ms/step - loss: 3.2406e-04\n",
      "Epoch 13/20\n",
      "1543/1543 [==============================] - 24s 15ms/step - loss: 2.3027e-04\n",
      "Epoch 14/20\n",
      "1543/1543 [==============================] - 22s 14ms/step - loss: 2.4855e-04\n",
      "Epoch 15/20\n",
      "1543/1543 [==============================] - 22s 14ms/step - loss: 2.2381e-04\n",
      "Epoch 16/20\n",
      "1543/1543 [==============================] - 20s 13ms/step - loss: 2.6660e-04\n",
      "Epoch 17/20\n",
      "1543/1543 [==============================] - 26s 17ms/step - loss: 3.1371e-04\n",
      "Epoch 18/20\n",
      "1543/1543 [==============================] - 21s 14ms/step - loss: 2.6208e-04\n",
      "Epoch 19/20\n",
      "1543/1543 [==============================] - 19s 13ms/step - loss: 2.2141e-04\n",
      "Epoch 20/20\n",
      "1543/1543 [==============================] - 18s 12ms/step - loss: 2.3545e-04\n"
     ]
    },
    {
     "data": {
      "text/plain": [
       "<keras.callbacks.callbacks.History at 0x7f1157ee6f98>"
      ]
     },
     "execution_count": 87,
     "metadata": {},
     "output_type": "execute_result"
    }
   ],
   "source": [
    "small_batch_size.fit(train_data, train_target, batch_size=4, epochs=20)"
   ]
  },
  {
   "cell_type": "code",
   "execution_count": 88,
   "metadata": {},
   "outputs": [
    {
     "name": "stdout",
     "output_type": "stream",
     "text": [
      "Epoch 1/20\n",
      "1543/1543 [==============================] - 2s 2ms/step - loss: 0.0808\n",
      "Epoch 2/20\n",
      "1543/1543 [==============================] - 1s 786us/step - loss: 0.0089\n",
      "Epoch 3/20\n",
      "1543/1543 [==============================] - 1s 792us/step - loss: 0.0029\n",
      "Epoch 4/20\n",
      "1543/1543 [==============================] - 1s 792us/step - loss: 0.0013\n",
      "Epoch 5/20\n",
      "1543/1543 [==============================] - 1s 871us/step - loss: 0.0012\n",
      "Epoch 6/20\n",
      "1543/1543 [==============================] - 1s 794us/step - loss: 0.0011\n",
      "Epoch 7/20\n",
      "1543/1543 [==============================] - 2s 1ms/step - loss: 0.0010\n",
      "Epoch 8/20\n",
      "1543/1543 [==============================] - 2s 1ms/step - loss: 0.0011\n",
      "Epoch 9/20\n",
      "1543/1543 [==============================] - 2s 1ms/step - loss: 0.0012\n",
      "Epoch 10/20\n",
      "1543/1543 [==============================] - 1s 851us/step - loss: 0.0010\n",
      "Epoch 11/20\n",
      "1543/1543 [==============================] - 1s 872us/step - loss: 0.0010\n",
      "Epoch 12/20\n",
      "1543/1543 [==============================] - 2s 1ms/step - loss: 0.0010\n",
      "Epoch 13/20\n",
      "1543/1543 [==============================] - 1s 908us/step - loss: 9.9088e-04\n",
      "Epoch 14/20\n",
      "1543/1543 [==============================] - 1s 880us/step - loss: 9.8295e-04\n",
      "Epoch 15/20\n",
      "1543/1543 [==============================] - 1s 900us/step - loss: 9.4514e-04\n",
      "Epoch 16/20\n",
      "1543/1543 [==============================] - 2s 980us/step - loss: 9.2915e-04\n",
      "Epoch 17/20\n",
      "1543/1543 [==============================] - 2s 1ms/step - loss: 9.5652e-04\n",
      "Epoch 18/20\n",
      "1543/1543 [==============================] - 2s 1ms/step - loss: 8.9798e-04\n",
      "Epoch 19/20\n",
      "1543/1543 [==============================] - 1s 839us/step - loss: 8.9247e-04 0s - loss: 8.82\n",
      "Epoch 20/20\n",
      "1543/1543 [==============================] - 1s 940us/step - loss: 8.7388e-04\n"
     ]
    },
    {
     "data": {
      "text/plain": [
       "<keras.callbacks.callbacks.History at 0x7f1157e945f8>"
      ]
     },
     "execution_count": 88,
     "metadata": {},
     "output_type": "execute_result"
    }
   ],
   "source": [
    "large_batch_size.fit(train_data, train_target, batch_size=128, epochs=20)"
   ]
  },
  {
   "cell_type": "markdown",
   "metadata": {},
   "source": [
    "### Testing the models\n",
    "\n",
    "We can alredy see that there is a relative difference between the training losses of the two models.\n",
    "We can see how their generalization errors are drastically difference, with an order of magnitude of difference.\n",
    "The small batch size model has a much higer capability to predict the unseen data, meaning that it generalizes better."
   ]
  },
  {
   "cell_type": "code",
   "execution_count": 105,
   "metadata": {},
   "outputs": [],
   "source": [
    "# We rewrite the test dataset in a way suitable to be inputted into the model\n",
    "test_data, test_target = create_training_data(scaled_test, 60)"
   ]
  },
  {
   "cell_type": "code",
   "execution_count": 106,
   "metadata": {},
   "outputs": [
    {
     "name": "stdout",
     "output_type": "stream",
     "text": [
      "340/340 [==============================] - 0s 562us/step\n"
     ]
    },
    {
     "data": {
      "text/plain": [
       "0.0010427678524352172"
      ]
     },
     "execution_count": 106,
     "metadata": {},
     "output_type": "execute_result"
    }
   ],
   "source": [
    "small_batch_size.evaluate(x=test_data, y=test_target)"
   ]
  },
  {
   "cell_type": "code",
   "execution_count": 108,
   "metadata": {},
   "outputs": [
    {
     "name": "stdout",
     "output_type": "stream",
     "text": [
      "340/340 [==============================] - 0s 519us/step\n"
     ]
    },
    {
     "data": {
      "text/plain": [
       "0.010794480758554796"
      ]
     },
     "execution_count": 108,
     "metadata": {},
     "output_type": "execute_result"
    }
   ],
   "source": [
    "large_batch_size.evaluate(x = test_data, y = test_target)"
   ]
  },
  {
   "cell_type": "markdown",
   "metadata": {},
   "source": [
    "### Predictions comparison\n",
    "\n",
    "We have an idea about how much the two models differ in predicting unseen values.\n",
    "We want now to proceed and study *how* they are different, in order to do so we are going to plot them against the true ones."
   ]
  },
  {
   "cell_type": "code",
   "execution_count": 110,
   "metadata": {},
   "outputs": [],
   "source": [
    "prediction_small_batch = small_batch_size.predict(test_data)\n",
    "prediction_large_batch = large_batch_size.predict(test_data)"
   ]
  },
  {
   "cell_type": "code",
   "execution_count": 111,
   "metadata": {},
   "outputs": [
    {
     "data": {
      "image/png": "[encoded data removed]",
      "text/plain": [
       "<Figure size 432x288 with 1 Axes>"
      ]
     },
     "metadata": {
      "needs_background": "light"
     },
     "output_type": "display_data"
    }
   ],
   "source": [
    "plt.plot(prediction_small_batch, label = 'Small Batch Size')\n",
    "plt.plot(prediction_large_batch, label = 'Large Batch Size')\n",
    "plt.plot(test_target, label = 'truth')\n",
    "plt.legend()\n",
    "plt.show()"
   ]
  },
  {
   "cell_type": "markdown",
   "metadata": {},
   "source": [
    "#### Un-Normalize the data\n",
    "\n",
    "The data presented before are still using the noramlized input, we can use the scaler we defined before to un-normalize them and see the predictions in the correct scale."
   ]
  },
  {
   "cell_type": "code",
   "execution_count": 95,
   "metadata": {},
   "outputs": [],
   "source": [
    "prediction_small_bs = scaler.inverse_transform(prediction_small_batch)\n",
    "prediction_large_bs = scaler.inverse_transform(prediction_large_batch)"
   ]
  },
  {
   "cell_type": "code",
   "execution_count": 112,
   "metadata": {},
   "outputs": [
    {
     "data": {
      "image/png": "[encoded data removed]",
      "text/plain": [
       "<Figure size 432x288 with 1 Axes>"
      ]
     },
     "metadata": {
      "needs_background": "light"
     },
     "output_type": "display_data"
    }
   ],
   "source": [
    "plt.plot(prediction_small_bs, label = 'Batch Size 4')\n",
    "plt.plot(prediction_large_bs, label = 'Batch Size 128')\n",
    "plt.plot(test_dataset[60:], label = 'Truth')\n",
    "plt.legend()\n",
    "plt.show()"
   ]
  },
  {
   "cell_type": "markdown",
   "metadata": {},
   "source": [
    "### Frequencies Filtering effects\n",
    "\n",
    "We can see how the small batch size is much more responsive to fast changes in the prices, while the larg batch size one is learning mainly learning the slow moving features.\n",
    "\n",
    "it has to be noticed that the features learnt by the small batch size model comes with the price of a much longer training time on the CPU."
   ]
  },
  {
   "cell_type": "markdown",
   "metadata": {},
   "source": [
    "# A very simple model\n",
    "\n",
    "We can then compare our results for the time series against the simpler model possible.\n",
    "In order to  predict the value of the point $ x\\left[ t+1 \\right] $ we use a linear interpolation of the previous two:\n",
    "$ x\\left[ t+1 \\right] = 2 x\\left[ t \\right] - x\\left[ t-1 \\right]$.\n",
    "This model will provide a baseline we would run against using our LSTM model build in Keras."
   ]
  },
  {
   "cell_type": "code",
   "execution_count": 113,
   "metadata": {},
   "outputs": [],
   "source": [
    "# Another simple model\n",
    "def model(seq):\n",
    "#     We simply use a stupid regression\n",
    "#     x[t+1] = 2*x[t]-x[t-1]\n",
    "    result = []\n",
    "    for i in range(2, len(seq)):\n",
    "        result.append(2.*seq[i-1]-seq[i-2])\n",
    "    return np.asarray(result)"
   ]
  },
  {
   "cell_type": "code",
   "execution_count": 116,
   "metadata": {},
   "outputs": [],
   "source": [
    "# This model does not have any ned to receive normalized inputs\n",
    "simple_pred = model(test_dataset)"
   ]
  },
  {
   "cell_type": "code",
   "execution_count": 117,
   "metadata": {},
   "outputs": [
    {
     "data": {
      "image/png": "[encoded data removed]",
      "text/plain": [
       "<Figure size 432x288 with 1 Axes>"
      ]
     },
     "metadata": {
      "needs_background": "light"
     },
     "output_type": "display_data"
    }
   ],
   "source": [
    "plt.plot(simple_pred, label = 'Linear model predictions')\n",
    "plt.plot(test_dataset[2:], label = 'Ground Trush')\n",
    "plt.legend()\n",
    "plt.show()"
   ]
  },
  {
   "cell_type": "markdown",
   "metadata": {},
   "source": [
    "### Comparing the models\n",
    "\n",
    "We have now two models, we want now to understand which of them performs better after training.\n",
    "\n",
    "Clearly, we expect our simple model to perform the worst, but we need a quantitative way to say what is best and what is worst.\n",
    "We then use the R2 score, again provided by the sklearn library, to compute the score on the test set."
   ]
  },
  {
   "cell_type": "code",
   "execution_count": 121,
   "metadata": {},
   "outputs": [],
   "source": [
    "from sklearn.metrics import r2_score"
   ]
  },
  {
   "cell_type": "code",
   "execution_count": 43,
   "metadata": {},
   "outputs": [
    {
     "data": {
      "text/plain": [
       "0.9693919759437924"
      ]
     },
     "execution_count": 43,
     "metadata": {},
     "output_type": "execute_result"
    }
   ],
   "source": [
    "r2_score(test_dataset[2:], simple_pred)"
   ]
  },
  {
   "cell_type": "code",
   "execution_count": 119,
   "metadata": {},
   "outputs": [
    {
     "data": {
      "text/plain": [
       "0.9786200671047295"
      ]
     },
     "execution_count": 119,
     "metadata": {},
     "output_type": "execute_result"
    }
   ],
   "source": [
    "r2_score(test_dataset[60:], prediction_small_bs)"
   ]
  },
  {
   "cell_type": "code",
   "execution_count": 120,
   "metadata": {},
   "outputs": [
    {
     "data": {
      "text/plain": [
       "0.7786800794457547"
      ]
     },
     "execution_count": 120,
     "metadata": {},
     "output_type": "execute_result"
    }
   ],
   "source": [
    "r2_score(test_dataset[60:], prediction_large_bs)"
   ]
  },
  {
   "cell_type": "markdown",
   "metadata": {},
   "source": [
    "### Results comparison\n",
    "\n",
    "The R2 score is quantitatively measuring the results of the models on the test dataset.\n",
    "The simple model obtains an excellent score, the large batch size model on the other side struggles a lot while the small batch sizes model beats them all, which is not surprising due to its longer training time."
   ]
  },
  {
   "cell_type": "markdown",
   "metadata": {},
   "source": [
    "## Fourier Series\n",
    "\n",
    "We can now use another way to predict the time evolution of our time series: Fourier Series.\n",
    "\n",
    "The idea is to use the training set to compute the Fourier coefficients of out signal, then we will use these Fourier coefficients to perform interpolation on the test signal and see how accuracte this model is."
   ]
  },
  {
   "cell_type": "code",
   "execution_count": 45,
   "metadata": {},
   "outputs": [],
   "source": [
    "import scipy"
   ]
  },
  {
   "cell_type": "code",
   "execution_count": 46,
   "metadata": {},
   "outputs": [],
   "source": [
    "# We compute the Fourier series\n",
    "coefficients = np.fft.fft(scaled_train.reshape(len(scaled_train)))"
   ]
  },
  {
   "cell_type": "code",
   "execution_count": 47,
   "metadata": {},
   "outputs": [
    {
     "data": {
      "text/plain": [
       "[<matplotlib.lines.Line2D at 0x7f119820f198>]"
      ]
     },
     "execution_count": 47,
     "metadata": {},
     "output_type": "execute_result"
    },
    {
     "data": {
      "image/png": "[encoded data removed]",
      "text/plain": [
       "<Figure size 432x288 with 1 Axes>"
      ]
     },
     "metadata": {
      "needs_background": "light"
     },
     "output_type": "display_data"
    }
   ],
   "source": [
    "plt.plot(np.absolute(coefficients))"
   ]
  },
  {
   "cell_type": "code",
   "execution_count": 48,
   "metadata": {},
   "outputs": [],
   "source": [
    "def filter_and_rescale(coef, low_filter = 0., high_filter = 0.):\n",
    "    coef[coef<0.5] = 0\n",
    "    low_lim = int(len(coef)*low_filter)\n",
    "    high_lim = int(len(coef)*(1-high_filter))\n",
    "    result = np.concatenate((np.zeros(low_filter), coef[low_lim:high_lim], np.zeros(len(coef)-high_lim)))\n",
    "    assert len(result) == len(coef)\n",
    "    return result"
   ]
  },
  {
   "cell_type": "code",
   "execution_count": 49,
   "metadata": {},
   "outputs": [],
   "source": [
    "fft = filter_and_rescale(coefficients, low_filter=0, high_filter=0.)"
   ]
  },
  {
   "cell_type": "code",
   "execution_count": 50,
   "metadata": {},
   "outputs": [
    {
     "data": {
      "text/plain": [
       "1603"
      ]
     },
     "execution_count": 50,
     "metadata": {},
     "output_type": "execute_result"
    }
   ],
   "source": [
    "len(fft)"
   ]
  },
  {
   "cell_type": "code",
   "execution_count": 51,
   "metadata": {},
   "outputs": [
    {
     "data": {
      "image/png": "[encoded data removed]",
      "text/plain": [
       "<Figure size 432x288 with 1 Axes>"
      ]
     },
     "metadata": {
      "needs_background": "light"
     },
     "output_type": "display_data"
    }
   ],
   "source": [
    "plt.xlim([400,800])\n",
    "plt.ylim([0,1])\n",
    "plt.plot(np.absolute(coefficients))\n",
    "plt.plot(np.absolute(fft))\n",
    "plt.show()"
   ]
  },
  {
   "cell_type": "code",
   "execution_count": 52,
   "metadata": {},
   "outputs": [],
   "source": [
    "fft_pred = np.fft.ifft(coefficients, len(scaled_train))\n",
    "fft_filter = np.fft.irfft(fft, len(scaled_train))"
   ]
  },
  {
   "cell_type": "code",
   "execution_count": 53,
   "metadata": {},
   "outputs": [],
   "source": [
    "fft_pred = np.fft.irfft(coefficients, len(scaled_train)+len(scaled_test))\n",
    "fft_filter = np.fft.irfft(np.pad(fft,(0, len(scaled_test)//2)))"
   ]
  },
  {
   "cell_type": "code",
   "execution_count": 54,
   "metadata": {},
   "outputs": [],
   "source": [
    "def time_evolution(coeff, init_time):\n",
    "    freq = np.fft.fftfreq(coeff.size, d=1)\n",
    "    coeff  = np.multiply(coeff, np.exp(1.0j*freq*init_time))\n",
    "    return coeff"
   ]
  },
  {
   "cell_type": "code",
   "execution_count": 55,
   "metadata": {},
   "outputs": [],
   "source": [
    "t_evolved = time_evolution(fft, 0)"
   ]
  },
  {
   "cell_type": "code",
   "execution_count": 56,
   "metadata": {},
   "outputs": [],
   "source": [
    "evo = np.fft.ifft(t_evolved, len(scaled_train))"
   ]
  },
  {
   "cell_type": "code",
   "execution_count": 57,
   "metadata": {},
   "outputs": [
    {
     "name": "stderr",
     "output_type": "stream",
     "text": [
      "/home/lorenzo/Documents/learning/TimeSeriesTutorial/.LSTM/lib/python3.6/site-packages/numpy/core/_asarray.py:85: ComplexWarning: Casting complex values to real discards the imaginary part\n",
      "  return array(a, dtype, copy=False, order=order)\n",
      "/home/lorenzo/Documents/learning/TimeSeriesTutorial/.LSTM/lib/python3.6/site-packages/numpy/core/_asarray.py:85: ComplexWarning: Casting complex values to real discards the imaginary part\n",
      "  return array(a, dtype, copy=False, order=order)\n"
     ]
    },
    {
     "data": {
      "text/plain": [
       "[<matplotlib.lines.Line2D at 0x7f1198295b38>]"
      ]
     },
     "execution_count": 57,
     "metadata": {},
     "output_type": "execute_result"
    },
    {
     "data": {
      "image/png": "[encoded data removed]",
      "text/plain": [
       "<Figure size 432x288 with 1 Axes>"
      ]
     },
     "metadata": {
      "needs_background": "light"
     },
     "output_type": "display_data"
    }
   ],
   "source": [
    "plt.plot(np.pad(fft, (0, len(scaled_test)//2), mode = 'edge'))\n",
    "plt.plot(fft)"
   ]
  },
  {
   "cell_type": "code",
   "execution_count": 58,
   "metadata": {},
   "outputs": [
    {
     "name": "stdout",
     "output_type": "stream",
     "text": [
      "1603\n",
      "1603\n",
      "400\n"
     ]
    }
   ],
   "source": [
    "print(len(evo))\n",
    "print(len(scaled_train))\n",
    "print(len(scaled_test))"
   ]
  },
  {
   "cell_type": "code",
   "execution_count": 59,
   "metadata": {},
   "outputs": [
    {
     "name": "stderr",
     "output_type": "stream",
     "text": [
      "/home/lorenzo/Documents/learning/TimeSeriesTutorial/.LSTM/lib/python3.6/site-packages/numpy/core/_asarray.py:85: ComplexWarning: Casting complex values to real discards the imaginary part\n",
      "  return array(a, dtype, copy=False, order=order)\n"
     ]
    },
    {
     "data": {
      "text/plain": [
       "[]"
      ]
     },
     "execution_count": 59,
     "metadata": {},
     "output_type": "execute_result"
    },
    {
     "data": {
      "image/png": "[encoded data removed]",
      "text/plain": [
       "<Figure size 432x288 with 1 Axes>"
      ]
     },
     "metadata": {
      "needs_background": "light"
     },
     "output_type": "display_data"
    }
   ],
   "source": [
    "plt.plot(np.concatenate((scaled_train,scaled_test)), label = 'Origin')\n",
    "plt.plot(evo, label = 'Tev')\n",
    "# plt.plot(scaled_train, label = 'Orig')\n",
    "# plt.plot(np.absolute(fft_pred))\n",
    "# plt.plot(fft_pred)\n",
    "plt.legend()\n",
    "plt.plot()"
   ]
  },
  {
   "cell_type": "markdown",
   "metadata": {},
   "source": [
    "### Returns\n",
    "\n",
    "We use the models we have derived before, the simple and the LSTM, to predict the returns, defined as\n",
    "\n",
    "*$\n",
    "f(x) = \\frac{x[t+1]-x[t]}{x[t]}\n",
    "$*"
   ]
  },
  {
   "cell_type": "markdown",
   "metadata": {},
   "source": [
    "We start creating an helper function to compute  the returns starting from the closing prices."
   ]
  },
  {
   "cell_type": "code",
   "execution_count": 60,
   "metadata": {},
   "outputs": [],
   "source": [
    "def compute_return(closing):\n",
    "    m = np.diff(closing, axis = 0)\n",
    "    return m/closing[:-1]"
   ]
  },
  {
   "cell_type": "code",
   "execution_count": 61,
   "metadata": {},
   "outputs": [],
   "source": [
    "predicted_returns = compute_return(prediction)"
   ]
  },
  {
   "cell_type": "code",
   "execution_count": 62,
   "metadata": {},
   "outputs": [],
   "source": [
    "true_returns = compute_return(test_dataset[60:])"
   ]
  },
  {
   "cell_type": "code",
   "execution_count": 63,
   "metadata": {},
   "outputs": [
    {
     "ename": "ValueError",
     "evalue": "cannot reshape array of size 339 into shape (340,1,1)",
     "output_type": "error",
     "traceback": [
      "\u001b[0;31m---------------------------------------------------------------------------\u001b[0m",
      "\u001b[0;31mValueError\u001b[0m                                Traceback (most recent call last)",
      "\u001b[0;32m<ipython-input-63-b1190d5f3830>\u001b[0m in \u001b[0;36m<module>\u001b[0;34m\u001b[0m\n\u001b[0;32m----> 1\u001b[0;31m \u001b[0mpredicted_returns\u001b[0m\u001b[0;34m.\u001b[0m\u001b[0mreshape\u001b[0m\u001b[0;34m(\u001b[0m\u001b[0;36m340\u001b[0m\u001b[0;34m,\u001b[0m\u001b[0;36m1\u001b[0m\u001b[0;34m,\u001b[0m\u001b[0;36m1\u001b[0m\u001b[0;34m)\u001b[0m\u001b[0;34m\u001b[0m\u001b[0;34m\u001b[0m\u001b[0m\n\u001b[0m",
      "\u001b[0;31mValueError\u001b[0m: cannot reshape array of size 339 into shape (340,1,1)"
     ]
    }
   ],
   "source": [
    "predicted_returns.reshape(340,1,1)"
   ]
  },
  {
   "cell_type": "code",
   "execution_count": null,
   "metadata": {},
   "outputs": [],
   "source": [
    "len(predicted_returns)"
   ]
  },
  {
   "cell_type": "code",
   "execution_count": null,
   "metadata": {},
   "outputs": [],
   "source": [
    "true_returns.shape"
   ]
  },
  {
   "cell_type": "code",
   "execution_count": null,
   "metadata": {},
   "outputs": [],
   "source": [
    "r2_score(true_returns, predicted_returns)"
   ]
  },
  {
   "cell_type": "code",
   "execution_count": null,
   "metadata": {},
   "outputs": [],
   "source": [
    "plt.plot(true_returns)\n",
    "plt.plot(predicted_returns)\n",
    "plt.show()"
   ]
  },
  {
   "cell_type": "code",
   "execution_count": null,
   "metadata": {},
   "outputs": [],
   "source": [
    "def filter(x, w):\n",
    "    df = pd.DataFrame(x)\n",
    "    df = df.rolling(w).mean()\n",
    "    df = df.dropna()\n",
    "    return df.to_numpy()"
   ]
  },
  {
   "cell_type": "code",
   "execution_count": null,
   "metadata": {},
   "outputs": [],
   "source": [
    "filtered_test = filter(test_dataset[60:], 10)"
   ]
  },
  {
   "cell_type": "code",
   "execution_count": null,
   "metadata": {},
   "outputs": [],
   "source": [
    "len(filtered_test)"
   ]
  },
  {
   "cell_type": "code",
   "execution_count": null,
   "metadata": {},
   "outputs": [],
   "source": [
    "plt.plot(prediction[10:])\n",
    "plt.plot(filtered_test)\n",
    "plt.show()"
   ]
  },
  {
   "cell_type": "code",
   "execution_count": null,
   "metadata": {},
   "outputs": [],
   "source": [
    "true_returns = compute_return(filtered_test)"
   ]
  },
  {
   "cell_type": "code",
   "execution_count": null,
   "metadata": {},
   "outputs": [],
   "source": [
    "plt.plot(true_returns)\n",
    "plt.plot(predicted_returns[9:])\n",
    "plt.show()"
   ]
  },
  {
   "cell_type": "code",
   "execution_count": null,
   "metadata": {},
   "outputs": [],
   "source": [
    "r2_score(true_returns, predicted_returns[9:])"
   ]
  },
  {
   "cell_type": "code",
   "execution_count": null,
   "metadata": {},
   "outputs": [],
   "source": [
    "simple_returns  = compute_return(simple_pred)"
   ]
  },
  {
   "cell_type": "code",
   "execution_count": null,
   "metadata": {},
   "outputs": [],
   "source": [
    "true_returns = compute_return(test_dataset)\n",
    "r2_score(true_returns[2:], simple_returns)"
   ]
  },
  {
   "cell_type": "code",
   "execution_count": null,
   "metadata": {},
   "outputs": [],
   "source": [
    "# plt.plot(true_returns[2:])\n",
    "# plt.plot(simple_returns)\n",
    "plt.plot(np.abs(simple_returns-true_returns[2:]))\n",
    "plt.show()"
   ]
  },
  {
   "cell_type": "code",
   "execution_count": null,
   "metadata": {},
   "outputs": [],
   "source": [
    "zero_model = np.zeros(len(test_dataset))"
   ]
  },
  {
   "cell_type": "code",
   "execution_count": null,
   "metadata": {},
   "outputs": [],
   "source": [
    "r2_score(true_returns, zero_model[1:])"
   ]
  },
  {
   "cell_type": "code",
   "execution_count": null,
   "metadata": {},
   "outputs": [],
   "source": []
  }
 ],
 "metadata": {
  "kernelspec": {
   "display_name": "lstm",
   "language": "python",
   "name": "lstm"
  },
  "language_info": {
   "codemirror_mode": {
    "name": "ipython",
    "version": 3
   },
   "file_extension": ".py",
   "mimetype": "text/x-python",
   "name": "python",
   "nbconvert_exporter": "python",
   "pygments_lexer": "ipython3",
   "version": "3.6.10"
  }
 },
 "nbformat": 4,
 "nbformat_minor": 4
}
